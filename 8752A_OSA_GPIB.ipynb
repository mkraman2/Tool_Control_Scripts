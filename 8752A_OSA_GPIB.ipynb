{
 "cells": [
  {
   "cell_type": "code",
   "execution_count": 40,
   "metadata": {},
   "outputs": [],
   "source": [
    "import pyvisa\n",
    "from pprint import pprint\n",
    "import matplotlib.pyplot as plt\n",
    "import numpy as np\n",
    "import pandas as pd"
   ]
  },
  {
   "cell_type": "code",
   "execution_count": 2,
   "metadata": {},
   "outputs": [
    {
     "name": "stdout",
     "output_type": "stream",
     "text": [
      "Resource Manager of Visa Library at C:\\Windows\\system32\\visa32.dll\n",
      "('GPIB0::16::INSTR', 'GPIB0::17::INSTR')\n"
     ]
    }
   ],
   "source": [
    "# rm = pyvisa.ResourceManager('@ni') # '@ni or '@py'\n",
    "rm = pyvisa.ResourceManager('@ni')\n",
    "print(rm)\n",
    "print(rm.list_resources())"
   ]
  },
  {
   "cell_type": "code",
   "execution_count": 3,
   "metadata": {},
   "outputs": [
    {
     "name": "stdout",
     "output_type": "stream",
     "text": [
      "inst_0  HEWLETT PACKARD,8703A,0,1.00\n",
      "\n",
      "inst_0         0 \n",
      "\n"
     ]
    }
   ],
   "source": [
    "inst_0 = rm.open_resource('GPIB0::16::INSTR')\n",
    "print(\"inst_0 \", inst_0.query(\"*IDN?\"))\n",
    "print(\"inst_0 \", inst_0.query(\"*TST?\"))"
   ]
  },
  {
   "cell_type": "code",
   "execution_count": 26,
   "metadata": {},
   "outputs": [
    {
     "data": {
      "text/plain": [
       "(9, <StatusCode.success: 0>)"
      ]
     },
     "execution_count": 26,
     "metadata": {},
     "output_type": "execute_result"
    }
   ],
   "source": [
    "inst_0.write(\"INTE 100\") # Set display intensity percent\n",
    "inst_0.write(\"BACI 10\") # Background intensity percentage"
   ]
  },
  {
   "cell_type": "code",
   "execution_count": 26,
   "metadata": {},
   "outputs": [
    {
     "data": {
      "text/plain": [
       "'   1.010000000000000E+02\\n'"
      ]
     },
     "execution_count": 26,
     "metadata": {},
     "output_type": "execute_result"
    }
   ],
   "source": [
    "'''\n",
    "HYPERPARAMS\n",
    "'''\n",
    "inst_0.timeout = 25000 # milliseconds\n",
    "f_start = \"1GHZ\"\n",
    "f_stop = \"2GHZ\"\n",
    "num_points = \"100\"\n",
    "power = \"0\" # dB\n",
    "\n",
    "inst_0.write(\"DEVTEE\") # Set the device type to E/E\n",
    "inst_0.write((\"STAR \" + f_start)) # Set start frequency\n",
    "inst_0.write((\"STOP \" + f_stop)) # Set stop frequency\n",
    "#inst_0.write((\"POWE\" + power)) # Ses the output power\n",
    "inst_0.write((\"POIN \" + num_points)) # Define the number of points in the current freqency list segment\n",
    "inst_0.write(\"LINFREQ\") # Select linear frequency sweep\n",
    "inst_0.write(\"CONT\") # Set the trigger mode to continuous\n",
    "\n",
    "inst_0.query(\"POIN?\")"
   ]
  },
  {
   "cell_type": "code",
   "execution_count": 7,
   "metadata": {},
   "outputs": [],
   "source": [
    "def string_to_freq(string):\n",
    "    string = string.lower()\n",
    "    if \"ghz\" in string:\n",
    "        return float(string.replace(\"ghz\", \"\"))*10**9\n",
    "    elif \"mhz\" in string:\n",
    "          return float(string.replace(\"mhz\", \"\"))*10**6\n",
    "    elif \"khz\" in string:\n",
    "        return float(string.replace(\"khz\", \"\"))*10**3\n",
    "    elif \"hz\" in string:\n",
    "        return float(string.replace(\"hz\", \"\"))*10**0\n",
    "    else:\n",
    "        return float(string)*10**0"
   ]
  },
  {
   "cell_type": "code",
   "execution_count": 67,
   "metadata": {},
   "outputs": [
    {
     "data": {
      "text/plain": [
       "(5, <StatusCode.success: 0>)"
      ]
     },
     "execution_count": 67,
     "metadata": {},
     "output_type": "execute_result"
    }
   ],
   "source": [
    "inst_0.write(\"S11\") # Select parameter displayed on current active channel"
   ]
  },
  {
   "cell_type": "code",
   "execution_count": 7,
   "metadata": {},
   "outputs": [
    {
     "data": {
      "text/plain": [
       "(6, <StatusCode.success: 0>)"
      ]
     },
     "execution_count": 7,
     "metadata": {},
     "output_type": "execute_result"
    }
   ],
   "source": [
    "inst_0.write(\"SING\") # Single sweep, then hold"
   ]
  },
  {
   "cell_type": "code",
   "execution_count": 8,
   "metadata": {},
   "outputs": [
    {
     "data": {
      "text/plain": [
       "(6, <StatusCode.success: 0>)"
      ]
     },
     "execution_count": 8,
     "metadata": {},
     "output_type": "execute_result"
    }
   ],
   "source": [
    "# inst_0.write(\"SMIC\") # Set display to smith chart\n",
    "inst_0.write(\"LOGM\") # set display to log mag"
   ]
  },
  {
   "cell_type": "code",
   "execution_count": 8,
   "metadata": {},
   "outputs": [
    {
     "name": "stdout",
     "output_type": "stream",
     "text": [
      "[0.0]\n"
     ]
    }
   ],
   "source": [
    "inst_0.write(\"OPC?\")\n",
    "inst_0.write(\"SING\") # Single sweep, then hold\n",
    "inst_0.write(\"FORM4\")\n",
    "print(inst_0.query_ascii_values(\"OUTPDATA?\")) # Active channel data stored to memory trace\n",
    "# print(inst_0.query(\"OUTPDATA?\")) # Active channel data stored to memory trace"
   ]
  },
  {
   "cell_type": "markdown",
   "metadata": {},
   "source": [
    "### Calibration: \n",
    "1. Start by selecting a calibration kit, such as 3.5mm(CALK35MM;).\n",
    "2. Select a calibration type, such as S11 1-port (CALIS111;).\n",
    "3. Call each class used by the calibration type, such as FORWARD: OPEN (CLASS11A;)\n",
    "During a 2-port calibration, the reflection, transmission, and isolation subsequences must\n",
    "be opened before the classes in the subsequence are called, and then closed at the end of\n",
    "each subsequence.\n",
    "4. If a class has more than one standard in it, select a standard from the menu presented\n",
    "(STANA to STANG).\n",
    "5. If, during a calibration, two standards are measured to satisfy one class, the class must be\n",
    "closed with DONE;.\n",
    "6. Declare the calibration done, such as with DONE 1-PORT CAL (SAV1;).\n",
    "\n",
    "Copied from pg. 194 http://literature.cdn.keysight.com/litweb/pdf/08703-90058.pdf"
   ]
  },
  {
   "cell_type": "code",
   "execution_count": 52,
   "metadata": {},
   "outputs": [
    {
     "data": {
      "text/plain": [
       "(6, <StatusCode.success: 0>)"
      ]
     },
     "execution_count": 52,
     "metadata": {},
     "output_type": "execute_result"
    }
   ],
   "source": [
    "inst_0.write(\"CALKUSED\") # User defined electrical, or try CALK35MM\n",
    "inst_0.write(\"CALIFUL2\") # Select Full 2-port measurement calibration\n",
    "inst_0.write(\"REFL\") # Begin reflection part of Full 2-port cal"
   ]
  },
  {
   "cell_type": "markdown",
   "metadata": {},
   "source": [
    "Port 1"
   ]
  },
  {
   "cell_type": "code",
   "execution_count": 53,
   "metadata": {},
   "outputs": [
    {
     "data": {
      "text/plain": [
       "(6, <StatusCode.success: 0>)"
      ]
     },
     "execution_count": 53,
     "metadata": {},
     "output_type": "execute_result"
    }
   ],
   "source": [
    "# Connect open at port 1\n",
    "inst_0.write(\"OPC?\") # Check if the following operation is complete\n",
    "inst_0.write(\"CLASS11A\") # S11A; S11 1-port\n",
    "inst_0.write(\"DONE\") # Done with standard class during cal"
   ]
  },
  {
   "cell_type": "code",
   "execution_count": 54,
   "metadata": {},
   "outputs": [
    {
     "data": {
      "text/plain": [
       "(6, <StatusCode.success: 0>)"
      ]
     },
     "execution_count": 54,
     "metadata": {},
     "output_type": "execute_result"
    }
   ],
   "source": [
    "# Connect short at port 1\n",
    "inst_0.write(\"OPC?\") # Check if the following operation is complete\n",
    "inst_0.write(\"CLASS11B\") # S11B; S11 1-port\n",
    "inst_0.write(\"DONE\") # Done with standard class during cal"
   ]
  },
  {
   "cell_type": "code",
   "execution_count": 55,
   "metadata": {},
   "outputs": [
    {
     "data": {
      "text/plain": [
       "(6, <StatusCode.success: 0>)"
      ]
     },
     "execution_count": 55,
     "metadata": {},
     "output_type": "execute_result"
    }
   ],
   "source": [
    "# Connect load at port 1\n",
    "inst_0.write(\"CLASS11C\") # S11B; S11 1-port\n",
    "inst_0.write(\"OPC?\") # Check if the following operation is complete\n",
    "inst_0.write(\"STANA\") # Measure cal standard in current standard class\n",
    "inst_0.write(\"DONE\") # Done with standard class during cal"
   ]
  },
  {
   "cell_type": "markdown",
   "metadata": {},
   "source": [
    "Port 2"
   ]
  },
  {
   "cell_type": "code",
   "execution_count": 56,
   "metadata": {},
   "outputs": [
    {
     "data": {
      "text/plain": [
       "(6, <StatusCode.success: 0>)"
      ]
     },
     "execution_count": 56,
     "metadata": {},
     "output_type": "execute_result"
    }
   ],
   "source": [
    "# Connect open at port 2\n",
    "inst_0.write(\"OPC?\") # Check if the following operation is complete\n",
    "inst_0.write(\"CLASS22A\") # S11A; S11 1-port\n",
    "inst_0.write(\"DONE\") # Done with standard class during cal"
   ]
  },
  {
   "cell_type": "code",
   "execution_count": 57,
   "metadata": {},
   "outputs": [
    {
     "data": {
      "text/plain": [
       "(6, <StatusCode.success: 0>)"
      ]
     },
     "execution_count": 57,
     "metadata": {},
     "output_type": "execute_result"
    }
   ],
   "source": [
    "# Connect short at port 2\n",
    "inst_0.write(\"OPC?\") # Check if the following operation is complete\n",
    "inst_0.write(\"CLASS22B\") # S11B; S11 1-port\n",
    "inst_0.write(\"DONE\") # Done with standard class during cal"
   ]
  },
  {
   "cell_type": "code",
   "execution_count": 58,
   "metadata": {},
   "outputs": [
    {
     "data": {
      "text/plain": [
       "(6, <StatusCode.success: 0>)"
      ]
     },
     "execution_count": 58,
     "metadata": {},
     "output_type": "execute_result"
    }
   ],
   "source": [
    "# Connect load at port 2\n",
    "inst_0.write(\"CLASS22C\") # S11B; S11 1-port\n",
    "inst_0.write(\"OPC?\") # Check if the following operation is complete\n",
    "inst_0.write(\"STANA\") # Measure cal standard in current standard class\n",
    "inst_0.write(\"DONE\") # Done with standard class during cal"
   ]
  },
  {
   "cell_type": "code",
   "execution_count": 59,
   "metadata": {},
   "outputs": [
    {
     "data": {
      "text/plain": [
       "(6, <StatusCode.success: 0>)"
      ]
     },
     "execution_count": 59,
     "metadata": {},
     "output_type": "execute_result"
    }
   ],
   "source": [
    "inst_0.write(\"REFD\") # End reflection part of Full 2-port cal\n",
    "inst_0.write(\"TRAN\") # Start transition  part of Full 2-port cal"
   ]
  },
  {
   "cell_type": "markdown",
   "metadata": {},
   "source": [
    "Port 1 <=> Port 2"
   ]
  },
  {
   "cell_type": "code",
   "execution_count": 60,
   "metadata": {},
   "outputs": [
    {
     "data": {
      "text/plain": [
       "(6, <StatusCode.success: 0>)"
      ]
     },
     "execution_count": 60,
     "metadata": {},
     "output_type": "execute_result"
    }
   ],
   "source": [
    "# Connect Thru\n",
    "\n",
    "# Forward Transmission\n",
    "inst_0.write(\"OPC?\") # Check if the following operation is complete\n",
    "inst_0.write(\"FWDT\") # Select forward transmission calibration standard class - Tracking\n",
    "inst_0.write(\"OPC?\") # Check if the following operation is complete\n",
    "inst_0.write(\"FWDM\") # Select forward transmission calibration standard class - Load match\n",
    "\n",
    "# Reverse Transmission\n",
    "inst_0.write(\"OPC?\") # Check if the following operation is complete\n",
    "inst_0.write(\"REVT\") # Select reverse transmission calibration standard class - Tracking\n",
    "inst_0.write(\"OPC?\") # Check if the following operation is complete\n",
    "inst_0.write(\"REVM\") # Select reverse transmission calibration standard class - Load match\n",
    "\n",
    "inst_0.write(\"TRAD\") # Done with transmission part of Full 2-port cal\n",
    "\n",
    "# Skip isolation cal (?)\n",
    "inst_0.write(\"OMII\")\n",
    "\n",
    "inst_0.write(\"OPC?\") # Check if the following operation is complete\n",
    "inst_0.write(\"SAV2\") # save the 2 port cal\n",
    "\n"
   ]
  },
  {
   "cell_type": "markdown",
   "metadata": {},
   "source": [
    "### Measurement"
   ]
  },
  {
   "cell_type": "code",
   "execution_count": 64,
   "metadata": {},
   "outputs": [],
   "source": [
    "# Trigger a single sweep\n",
    "inst_0.write(\"OPC?\")\n",
    "inst_0.write(\"SING\")\n",
    "inst_0.write(\"FORM4\")\n",
    "\n",
    "# Collect S-parameters from the tool\n",
    "inst_0.write(\"OPC?\")\n",
    "inst_0.write(\"S11\")\n",
    "# inst_0.write(\"SING\")\n",
    "s11 = inst_0.query(\"OUTPDATA\")\n",
    "\n",
    "inst_0.write(\"OPC?\")\n",
    "inst_0.write(\"S12\")\n",
    "# inst_0.write(\"SING\")\n",
    "s12 = inst_0.query(\"OUTPDATA\")\n",
    "\n",
    "inst_0.write(\"OPC?\")\n",
    "inst_0.write(\"S21\")\n",
    "# inst_0.write(\"SING\")\n",
    "s21 = inst_0.query(\"OUTPDATA\")\n",
    "\n",
    "inst_0.write(\"OPC?\")\n",
    "inst_0.write(\"S22\")\n",
    "# inst_0.write(\"SING\")\n",
    "s22 = inst_0.query(\"OUTPDATA\")\n"
   ]
  },
  {
   "cell_type": "code",
   "execution_count": 65,
   "metadata": {},
   "outputs": [
    {
     "name": "stdout",
     "output_type": "stream",
     "text": [
      "   3.599548000000000E-01,  -5.041809000000000E-01\n",
      "\n",
      "   0.289307000000000E-01,  -1.924561000000000E+00\n",
      "\n"
     ]
    }
   ],
   "source": [
    "print(s11[:50])\n",
    "print(s21[:50])"
   ]
  },
  {
   "cell_type": "code",
   "execution_count": 66,
   "metadata": {},
   "outputs": [],
   "source": [
    "# Build S-Parameters DataFrame\n",
    "f = np.linspace(string_to_freq(f_start), string_to_freq(f_stop), int(num_points) + 1)\n",
    "\n",
    "# Split entries into each real, imag pair\n",
    "s11_split = s11.split(\"\\n\")\n",
    "s12_split = s12.split(\"\\n\")\n",
    "s21_split = s21.split(\"\\n\")\n",
    "s22_split = s22.split(\"\\n\")\n",
    "\n",
    "# Make real and imag columns for each S-parameter\n",
    "s11_real = []\n",
    "s11_imag = []\n",
    "\n",
    "for i, pair in enumerate(s11_split):\n",
    "    if pair == '':\n",
    "        continue\n",
    "    try:\n",
    "        s11_real.append(pair.split(\",\")[0])\n",
    "        s11_imag.append(pair.split(\",\")[1])\n",
    "    except:\n",
    "        print(i)\n",
    "\n",
    "s12_real = []\n",
    "s12_imag = []\n",
    "        \n",
    "for i, pair in enumerate(s12_split):\n",
    "    if pair == '':\n",
    "        continue\n",
    "    try:\n",
    "        s12_real.append(pair.split(\",\")[0])\n",
    "        s12_imag.append(pair.split(\",\")[1])\n",
    "    except:\n",
    "        print(i)\n",
    "\n",
    "s21_real = []\n",
    "s21_imag = []\n",
    "\n",
    "for i, pair in enumerate(s21_split):\n",
    "    if pair == '':\n",
    "        continue\n",
    "    try:\n",
    "        s21_real.append(pair.split(\",\")[0])\n",
    "        s21_imag.append(pair.split(\",\")[1])\n",
    "    except:\n",
    "        print(i)\n",
    "        \n",
    "s22_real = []\n",
    "s22_imag = []\n",
    "\n",
    "for i, pair in enumerate(s22_split):\n",
    "    if pair == '':\n",
    "        continue\n",
    "    try:\n",
    "        s22_real.append(pair.split(\",\")[0])\n",
    "        s22_imag.append(pair.split(\",\")[1])\n",
    "    except:\n",
    "        print(i)     \n",
    "\n",
    "s_param_df = pd.DataFrame()\n",
    "s_param_df['f'] = f\n",
    "s_param_df['s11_real'] = [float(i) for i in s11_real]\n",
    "s_param_df['s11_imag'] = [float(i) for i in s11_imag]\n",
    "s_param_df['s12_real'] = [float(i) for i in s12_real]\n",
    "s_param_df['s12_imag'] = [float(i) for i in s12_imag]\n",
    "s_param_df['s21_real'] = [float(i) for i in s21_real]\n",
    "s_param_df['s21_imag'] = [float(i) for i in s21_imag]\n",
    "s_param_df['s22_real'] = [float(i) for i in s22_real]\n",
    "s_param_df['s22_imag'] = [float(i) for i in s22_imag]"
   ]
  },
  {
   "cell_type": "code",
   "execution_count": 67,
   "metadata": {},
   "outputs": [],
   "source": [
    "s_param_df.to_csv('s_params.csv')"
   ]
  },
  {
   "cell_type": "code",
   "execution_count": 68,
   "metadata": {},
   "outputs": [
    {
     "data": {
      "text/plain": [
       "[<matplotlib.lines.Line2D at 0x238e841bf98>]"
      ]
     },
     "execution_count": 68,
     "metadata": {},
     "output_type": "execute_result"
    },
    {
     "data": {
      "image/png": "[encoded data removed]",
      "text/plain": [
       "<Figure size 432x288 with 4 Axes>"
      ]
     },
     "metadata": {
      "needs_background": "light"
     },
     "output_type": "display_data"
    }
   ],
   "source": [
    "s11_logmag = np.log10(np.sqrt(np.add(np.power(s_param_df['s11_real'], 2), np.power(s_param_df['s11_imag'] ,2))))\n",
    "s12_logmag = np.log10(np.sqrt(np.add(np.power(s_param_df['s12_real'], 2), np.power(s_param_df['s12_imag'] ,2))))\n",
    "s21_logmag = np.log10(np.sqrt(np.add(np.power(s_param_df['s21_real'], 2), np.power(s_param_df['s21_imag'] ,2))))\n",
    "s22_logmag = np.log10(np.sqrt(np.add(np.power(s_param_df['s22_real'], 2), np.power(s_param_df['s22_imag'] ,2))))\n",
    "\n",
    "fig, axs = plt.subplots(2,2)\n",
    "axs[0,0].plot(s11_logmag)\n",
    "axs[0,1].plot(s12_logmag)\n",
    "axs[1,0].plot(s21_logmag)\n",
    "axs[1,1].plot(s22_logmag)"
   ]
  },
  {
   "cell_type": "code",
   "execution_count": 9,
   "metadata": {},
   "outputs": [
    {
     "data": {
      "text/plain": [
       "(6, <StatusCode.success: 0>)"
      ]
     },
     "execution_count": 9,
     "metadata": {},
     "output_type": "execute_result"
    }
   ],
   "source": [
    "inst_0.write(\"OPC?\") # Check if the following operation is complete\n",
    "\n",
    "inst_0.write(\"CHAN1\") # Select the active measurement channel\n",
    "inst_0.write(\"AUXOFF\") # Turn off the autxiliary channel if it is on\n",
    "inst_0.write(\"S11\") # Return loss measurement\n",
    "inst_0.write(\"LOGM\") # Log magnitude display\n",
    "inst_0.write(\"AUTO\") # Autoscale the current channel\n",
    "\n",
    "inst_0.write(\"CHAN2\") # Select the active measurement channel\n",
    "inst_0.write(\"AUXOFF\") # Turn off the auxiliary challen if it is on\n",
    "inst_0.write(\"S11\") # Return loss measurement\n",
    "inst_0.write(\"PHAS\") # Phase display\n",
    "inst_0.write(\"AUTO\") # Autoscale the current channel\n",
    "\n",
    "inst_0.write(\"DUACON\") # Dual channel display\n",
    "\n",
    "# inst_0.write(\"DEVTEE\") # Set the device type to E/E\n",
    "inst_0.write(\"STAR 1GHZ\") # Set start frequency\n",
    "inst_0.write(\"STOP 2GHZ\") # Set stop frequency\n",
    "inst_0.write(\"POIN 100\") # Define the number of points in the current freqency list segment\n",
    "inst_0.write(\"LINFREQ\") # Select linear frequency sweep\n",
    "# inst_0.write(\"CONT\") # Set the trigger mode to continuous\n",
    "\n",
    "inst_0.write(\"CHAN1\") # Select the active measurement channel\n",
    "inst_0.write(\"AUTO\") # Autoscale the current channel\n",
    "inst_0.write(\"CHAN2\") # Select the active measurement channel\n",
    "inst_0.write(\"AUTO\") # Autoscale the current channel\n",
    "\n",
    "inst_0.write(\"CHAN1\") # Select the active measurement channel\n",
    "inst_0.write(\"AUXCON\") # Turn on the \n",
    "inst_0.write(\"CHAN2\") # Select the active measurement channel\n",
    "inst_0.write(\"AUXCON\") # Turn on the \n",
    "\n",
    "inst_0.write(\"S21\")\n",
    "inst_0.write(\"LOGM\")\n",
    "inst_0.write(\"AUTO\")\n",
    "\n",
    "inst_0.write(\"CHAN3\")\n",
    "inst_0.write(\"MEASA\")\n",
    "inst_0.write(\"LOGM\")\n",
    "inst_0.write(\"AUTO\")\n",
    "\n",
    "inst_0.write(\"CHAN4\")\n",
    "inst_0.write(\"MEASb\")\n",
    "inst_0.write(\"LOGM\")\n",
    "inst_0.write(\"AUTO\")\n",
    "\n",
    "inst_0.write(\"SPLID4\")\n",
    "inst_0.write(\"OPC?\")\n",
    "inst_0.write(\"WAIT\")\n"
   ]
  },
  {
   "cell_type": "code",
   "execution_count": 27,
   "metadata": {},
   "outputs": [
    {
     "data": {
      "text/plain": [
       "(8, <StatusCode.success: 0>)"
      ]
     },
     "execution_count": 27,
     "metadata": {},
     "output_type": "execute_result"
    }
   ],
   "source": [
    "inst_0.write(\"CHAN1\") # Select the active measurement channel\n",
    "inst_0.write(\"AUXOFF\") # Turn off the autxiliary channel if it is on\n",
    "inst_0.write(\"S11\") # Return loss measurement\n",
    "inst_0.write(\"LOGM\") # Log magnitude display\n",
    "inst_0.write(\"AUTO\") # Autoscale the current channel\n",
    "\n",
    "inst_0.write(\"CHAN2\") # Select the active measurement channel\n",
    "inst_0.write(\"AUXOFF\") # Turn off the autxiliary channel if it is on\n",
    "inst_0.write(\"S21\") # Return loss measurement\n",
    "inst_0.write(\"LOGM\") # Log magnitude display\n",
    "inst_0.write(\"AUTO\") # Autoscale the current channel\n",
    "\n",
    "inst_0.write(\"DUACON\") # Dual channel display\n"
   ]
  },
  {
   "cell_type": "code",
   "execution_count": 54,
   "metadata": {},
   "outputs": [
    {
     "name": "stdout",
     "output_type": "stream",
     "text": [
      "('   1.871643000000000E-01,   0.141678000000000E-01\\n'\n",
      " '   1.405029000000000E+00,   7.104492000000000E-01\\n'\n",
      " '   3.730713000000000E+00,   1.940186000000000E+00\\n'\n",
      " '   0.811768000000000E-01,   8.986816000000000E-01\\n'\n",
      " '   1.273499000000000E-01,   9.390869000000000E-01\\n'\n",
      " '   3.052216000000000E-01,  -1.348419000000000E-01\\n'\n",
      " '  -1.318359000000000E-01,  -4.366455000000000E-01\\n'\n",
      " '   1.590332000000000E+00,   2.125732000000000E+00\\n'\n",
      " '  -4.681396000000000E-02,   7.942505000000000E-01\\n'\n",
      " '  -6.855774000000000E-02,   3.073273000000000E-01\\n'\n",
      " '   3.100281000000000E-01,  -9.081421000000000E-01\\n'\n",
      " '  -5.895386000000000E-01,   1.318665000000000E-01\\n'\n",
      " '   1.220856000000000E-01,  -2.971039000000000E-01\\n'\n",
      " '   1.120911000000000E+00,  -2.750244000000000E-01\\n'\n",
      " '   0.248413000000000E-01,  -2.898560000000000E-01\\n'\n",
      " '   0.115967000000000E-01,  -6.248779000000000E-01\\n'\n",
      " '  -1.529114000000000E+00,   1.020569000000000E+00\\n'\n",
      " '  -7.214966000000000E-01,   0.086060000000000E-01\\n'\n",
      " '   1.650391000000000E-01,   6.793213000000000E-01\\n'\n",
      " '   3.847656000000000E-01,  -4.504395000000000E-02\\n'\n",
      " '   1.325531000000000E-01,  -1.098785000000000E-01\\n'\n",
      " '  -4.871826000000000E-01,   2.088623000000000E-01\\n'\n",
      " '   2.918701000000000E-01,   9.027710000000000E-01\\n'\n",
      " '   2.277344000000000E+00,  -4.493408000000000E-01\\n'\n",
      " '  -3.134155000000000E-01,  -3.954468000000000E-01\\n'\n",
      " '   1.166000000000000E-01,  -1.348114000000000E-01\\n'\n",
      " '   9.712830000000000E-01,   3.646545000000000E-01\\n'\n",
      " '  -7.268677000000000E-01,  -6.208191000000000E-01\\n'\n",
      " '  -1.017761000000000E-02,   3.487701000000000E-01\\n'\n",
      " '   4.302368000000000E-01,  -2.539215000000000E-01\\n'\n",
      " '   2.386627000000000E-01,   3.645935000000000E-01\\n'\n",
      " '  -1.816711000000000E-01,  -2.201233000000000E-01\\n'\n",
      " '   0.334625000000000E-01,  -2.821198000000000E-01\\n'\n",
      " '  -5.621033000000000E-01,  -3.582764000000000E-02\\n'\n",
      " '   0.715942000000000E-01,   9.220276000000000E-01\\n'\n",
      " '  -2.956543000000000E-01,   5.240479000000000E-01\\n'\n",
      " '   4.822388000000000E-01,  -2.258301000000000E-01\\n'\n",
      " '  -1.167755000000000E-01,   1.649933000000000E-01\\n'\n",
      " '  -3.503418000000000E-02,  -8.046265000000000E-01\\n'\n",
      " '   7.292480000000000E-01,   2.037964000000000E-01\\n'\n",
      " '  -1.695862000000000E-01,   6.701965000000000E-01\\n'\n",
      " '   5.922241000000000E-01,  -1.186218000000000E-01\\n'\n",
      " '   3.716125000000000E-01,  -3.672485000000000E-01\\n'\n",
      " '  -9.309082000000000E-01,   8.426514000000000E-01\\n'\n",
      " '  -1.864014000000000E-01,  -1.003906000000000E+00\\n'\n",
      " '  -3.601074000000000E-01,   1.329041000000000E+00\\n'\n",
      " '  -8.751831000000000E-01,   2.899170000000000E-01\\n'\n",
      " '   2.381226000000000E+00,  -9.820557000000000E-01\\n'\n",
      " '  -9.436035000000000E-02,   2.360458000000000E-01\\n'\n",
      " '  -2.656250000000000E-01,   2.867188000000000E+00\\n'\n",
      " '  -5.539703000000000E-02,   2.264481000000000E-01\\n'\n",
      " '   3.672485000000000E-01,  -5.377197000000000E-02\\n'\n",
      " '   4.728088000000000E-01,  -7.269287000000000E-02\\n'\n",
      " '  -8.959961000000000E-02,  -6.490479000000000E-01\\n'\n",
      " '   4.953003000000000E-01,   9.307556000000000E-01\\n'\n",
      " '   8.712158000000000E-01,   4.737244000000000E-01\\n'\n",
      " '  -4.040527000000000E-01,   2.925415000000000E-01\\n'\n",
      " '  -1.039795000000000E+00,   1.028015000000000E+00\\n'\n",
      " '  -2.563477000000000E-01,   2.141571000000000E-01\\n'\n",
      " '  -1.193390000000000E-01,  -2.994232000000000E-01\\n'\n",
      " '   9.914551000000000E-01,   1.298828000000000E+00\\n'\n",
      " '   0.511475000000000E-01,  -1.083618000000000E+00\\n'\n",
      " '  -4.533081000000000E-01,  -1.738892000000000E-01\\n'\n",
      " '   1.175659000000000E+00,   4.832153000000000E-01\\n'\n",
      " '   8.434448000000000E-01,   2.137451000000000E-01\\n'\n",
      " '  -1.303864000000000E-01,   3.388214000000000E-01\\n'\n",
      " '  -1.884277000000000E+00,  -2.763550000000000E+00\\n'\n",
      " '  -6.108398000000000E-01,  -1.021729000000000E+00\\n'\n",
      " '  -3.729248000000000E-02,  -5.229797000000000E-01\\n'\n",
      " '  -1.069641000000000E+00,  -3.884888000000000E-01\\n'\n",
      " '  -3.250122000000000E-02,  -8.772278000000000E-01\\n'\n",
      " '  -1.264496000000000E-01,  -1.255188000000000E-01\\n'\n",
      " '  -5.274658000000000E-01,  -6.629028000000000E-01\\n'\n",
      " '   2.106934000000000E-01,  -8.695374000000000E-01\\n'\n",
      " '  -9.509277000000000E-02,   9.478760000000000E-01\\n'\n",
      " '  -3.935547000000000E-01,   5.867920000000000E-01\\n'\n",
      " '  -1.129028000000000E+00,  -1.918945000000000E-01\\n'\n",
      " '  -8.762817000000000E-01,  -1.127625000000000E+00\\n'\n",
      " '  -1.571808000000000E-01,   3.135986000000000E-01\\n'\n",
      " '   3.746338000000000E-01,   2.383728000000000E-01\\n'\n",
      " '   0.928040000000000E-01,   3.835297000000000E-01\\n'\n",
      " '  -1.030579000000000E-01,   3.106995000000000E-01\\n'\n",
      " '   3.819275000000000E-02,   3.952789000000000E-02\\n'\n",
      " '   7.697449000000000E-01,   0.821228000000000E-01\\n'\n",
      " '  -3.820496000000000E-01,   3.124084000000000E-01\\n'\n",
      " '   6.344604000000000E-01,  -4.611206000000000E-01\\n'\n",
      " '   5.477905000000000E-01,   1.107727000000000E+00\\n'\n",
      " '   2.245331000000000E-01,  -7.560730000000000E-02\\n'\n",
      " '   8.263550000000000E-01,  -4.432983000000000E-01\\n'\n",
      " '   5.411072000000000E-01,   3.626709000000000E-01\\n'\n",
      " '   1.148071000000000E+00,  -6.452637000000000E-01\\n'\n",
      " '  -4.938965000000000E-01,   3.439941000000000E-01\\n'\n",
      " '   2.919312000000000E-01,   2.700806000000000E-01\\n'\n",
      " '   1.059570000000000E+01,   2.367188000000000E+01\\n'\n",
      " '   4.160645000000000E+00,  -2.424316000000000E-01\\n'\n",
      " '  -1.070557000000000E+00,  -9.368896000000000E-02\\n'\n",
      " '  -4.561157000000000E-01,   8.020630000000000E-01\\n'\n",
      " '   1.413330000000000E+00,  -1.787537000000000E+00\\n'\n",
      " '   7.261353000000000E-01,  -1.575012000000000E-01\\n'\n",
      " '   3.636475000000000E-01,   5.070801000000000E-01\\n'\n",
      " '  -4.125977000000000E-02,   9.458618000000000E-01\\n')\n"
     ]
    }
   ],
   "source": [
    "pprint(out)"
   ]
  },
  {
   "cell_type": "code",
   "execution_count": 55,
   "metadata": {},
   "outputs": [],
   "source": [
    "import matplotlib.pyplot as plt"
   ]
  },
  {
   "cell_type": "code",
   "execution_count": 56,
   "metadata": {},
   "outputs": [],
   "source": [
    "# out = out.split(\",\")"
   ]
  },
  {
   "cell_type": "code",
   "execution_count": 57,
   "metadata": {},
   "outputs": [
    {
     "data": {
      "text/plain": [
       "'\\narr_0 = []\\narr_1 = []\\n\\nfor i, entry in enumerate(out):\\n    if i % 2 == 0:\\n        arr_0.append(entry.rstrip(\"\\n\"))\\n    else:\\n        arr_1.append(entry.rstrip(\"\\n\"))\\n'"
      ]
     },
     "execution_count": 57,
     "metadata": {},
     "output_type": "execute_result"
    }
   ],
   "source": [
    "'''\n",
    "arr_0 = []\n",
    "arr_1 = []\n",
    "\n",
    "for i, entry in enumerate(out):\n",
    "    if i % 2 == 0:\n",
    "        arr_0.append(entry.rstrip(\"\\n\"))\n",
    "    else:\n",
    "        arr_1.append(entry.rstrip(\"\\n\"))\n",
    "'''     "
   ]
  },
  {
   "cell_type": "code",
   "execution_count": 58,
   "metadata": {},
   "outputs": [
    {
     "data": {
      "text/plain": [
       "\"\\n('  -1.701340000000000E-05,   7.307529000000000E-05\\n'\\n '   0.173375000000000E-04,  -1.228377000000000E-04\\n'\\n '   1.586322000000000E-05,  -1.254864000000000E-05\\n'\\n '  -1.112372000000000E-05,  -5.210564000000000E-05\\n'\\n '   7.737428000000000E-06,   1.520850000000000E-05\\n'\\n '   0.258535000000000E-05,   9.219348000000000E-05\\n'\\n '  -3.298186000000000E-05,  -2.422743000000000E-05\\n'\\n '  -7.267296000000000E-05,   0.438839000000000E-05\\n'\\n '   1.955032000000000E-05,   8.310751000000000E-05\\n'\\n '  -5.480275000000000E-05,   2.966449000000000E-05\\n'\\n '   2.342835000000000E-05,  -4.411116000000000E-05\\n'\\n '  -1.923963000000000E-04,  -1.020432000000000E-04\\n'\\n '  -7.152557000000000E-07,   1.226366000000000E-04\\n'\\n '  -3.158488000000000E-05,  -4.542246000000000E-05\\n'\\n '   7.785112000000000E-05,  -1.180992000000000E-04\\n'\\n '   2.440996000000000E-06,   4.601898000000000E-06\\n'\\n '   1.246110000000000E-05,   6.675348000000000E-05\\n'\\n '   6.614625000000000E-05,   3.999472000000000E-05\\n'\\n '   0.667572000000000E-05,  -1.033247000000000E-04\\n'\\n '   0.727177000000000E-05,   4.243851000000000E-05\\n'\\n '  -3.699213000000000E-05,   1.023561000000000E-04\\n'\\n '   8.071959000000000E-05,   1.447648000000000E-05\\n'\\n '  -1.176596000000000E-04,   5.679578000000000E-05\\n'\\n '   0.411570000000000E-04,   1.896396000000000E-04\\n'\\n '  -4.933029000000000E-05,   4.340336000000000E-05\\n'\\n '   7.958710000000000E-05,   4.255027000000000E-05\\n'\\n '   1.623109000000000E-05,  -5.269796000000000E-05\\n'\\n '  -1.062453000000000E-04,  -4.803389000000000E-05\\n'\\n '  -6.930903000000000E-05,  -2.957880000000000E-05\\n'\\n '  -1.037773000000000E-05,  -1.021195000000000E-05\\n'\\n '  -1.150966000000000E-04,  -4.314631000000000E-05\\n'\\n '   8.962303000000000E-05,   4.909933000000000E-05\\n'\\n '   3.455207000000000E-06,   8.965843000000000E-06\\n'\\n '  -5.979836000000000E-05,  -1.608208000000000E-05\\n'\\n '  -9.663403000000000E-05,  -4.962832000000000E-05\\n'\\n '   8.891523000000000E-05,   1.618266000000000E-05\\n'\\n '   1.639128000000000E-05,  -5.351380000000000E-05\\n'\\n '  -5.307422000000000E-05,   3.769621000000000E-05\\n'\\n '   6.477163000000000E-05,   2.032518000000000E-05\\n'\\n '  -1.265481000000000E-05,  -3.738143000000000E-05\\n'\\n '  -3.145077000000000E-05,  -7.005409000000000E-06\\n'\\n '  -3.732741000000000E-05,  -1.069345000000000E-05\\n'\\n '   1.750514000000000E-05,   5.440414000000000E-05\\n'\\n '   4.045665000000000E-05,  -1.102537000000000E-04\\n'\\n '  -5.267560000000000E-06,  -1.085848000000000E-04\\n'\\n '  -1.486465000000000E-04,  -3.709644000000000E-05\\n'\\n '  -4.164689000000000E-05,  -1.959503000000000E-05\\n'\\n '  -5.141646000000000E-05,  -3.128499000000000E-05\\n'\\n '  -4.043058000000000E-05,  -1.909770000000000E-05\\n'\\n '  -1.085252000000000E-04,  -1.247227000000000E-05\\n'\\n '  -1.937151000000000E-06,   1.929849000000000E-04\\n'\\n '   1.446344000000000E-05,  -3.090687000000000E-05\\n'\\n '  -6.107241000000000E-05,   0.881031000000000E-05\\n'\\n '   1.908094000000000E-05,   9.819120000000000E-05\\n'\\n '  -1.242757000000000E-04,   0.163466000000000E-04\\n'\\n '   6.828085000000000E-05,   6.928668000000000E-05\\n'\\n '   4.385784000000000E-05,  -6.166101000000000E-05\\n'\\n '   0.662543000000000E-05,   2.552010000000000E-05\\n'\\n '   6.411225000000000E-05,   1.485273000000000E-05\\n'\\n '   0.307709000000000E-05,  -5.821512000000000E-05\\n'\\n '  -1.163706000000000E-04,  -4.507601000000000E-06\\n'\\n '   4.171394000000000E-05,  -3.027171000000000E-05\\n'\\n '   1.380295000000000E-04,   0.267103000000000E-04\\n'\\n '  -1.220778000000000E-05,   5.109981000000000E-05\\n'\\n '  -1.077876000000000E-04,   2.975017000000000E-05\\n'\\n '   6.961823000000000E-05,   7.616357000000000E-05\\n'\\n '  -1.006275000000000E-04,  -5.582720000000000E-05\\n'\\n '  -8.672476000000000E-05,   2.619624000000000E-05\\n'\\n '   1.876876000000000E-04,   0.474080000000000E-04\\n'\\n '  -1.034886000000000E-04,  -1.032352000000000E-04\\n'\\n '   3.303215000000000E-05,  -2.477318000000000E-07\\n'\\n '  -7.748232000000000E-05,   0.340119000000000E-05\\n'\\n '   2.877042000000000E-05,  -2.737343000000000E-05\\n'\\n '  -3.908947000000000E-05,   9.285287000000000E-05\\n'\\n '  -1.372211000000000E-05,  -3.215485000000000E-05\\n'\\n '   0.450611000000000E-04,  -1.350492000000000E-04\\n'\\n '  -7.292628000000000E-05,   0.100210000000000E-05\\n'\\n '  -3.965572000000000E-05,  -3.992394000000000E-05\\n'\\n '   3.217161000000000E-05,   4.159287000000000E-05\\n'\\n '  -7.957593000000000E-05,  -5.156547000000000E-05\\n'\\n '   1.702271000000000E-05,   3.072619000000000E-05\\n'\\n '  -1.901202000000000E-05,  -2.348796000000000E-05\\n'\\n '  -3.645011000000000E-05,   2.209097000000000E-05\\n'\\n '   4.968792000000000E-05,  -5.969778000000000E-05\\n'\\n '   8.680300000000000E-05,   4.684553000000000E-05\\n'\\n '  -8.097291000000000E-05,   2.294034000000000E-05\\n'\\n '  -6.584078000000000E-05,  -7.116795000000000E-05\\n'\\n '  -9.775162000000000E-06,   1.064241000000000E-04\\n'\\n '   0.154451000000000E-04,  -1.689419000000000E-04\\n'\\n '  -5.368143000000000E-05,   1.498535000000000E-04\\n'\\n '  -1.260415000000000E-04,   0.247359000000000E-04\\n'\\n '   6.653368000000000E-05,  -1.166985000000000E-04\\n'\\n '   8.805096000000000E-05,   8.039550000000000E-05\\n'\\n '   5.000830000000000E-05,   3.892556000000000E-05\\n'\\n '   2.655759000000000E-05,   2.993271000000000E-05\\n'\\n '  -5.264953000000000E-05,  -1.734123000000000E-05\\n'\\n '  -3.964454000000000E-05,   1.126528000000000E-04\\n'\\n '   5.229563000000000E-05,  -4.573166000000000E-05\\n'\\n '   0.351295000000000E-05,   6.152318000000000E-05\\n'\\n '   3.487058000000000E-05,   0.725500000000000E-05\\n'\\n '   7.726625000000000E-05,  -5.716085000000000E-05\\n'\\n '   1.079440000000000E-04,  -3.601611000000000E-05\\n'\\n '  -1.494586000000000E-05,   1.300499000000000E-04\\n'\\n '  -8.986145000000000E-05,  -1.857504000000000E-04\\n'\\n '   1.297668000000000E-04,  -1.022443000000000E-04\\n'\\n '   0.500306000000000E-05,  -3.569573000000000E-05\\n'\\n '   7.942319000000000E-05,   6.188080000000000E-05\\n'\\n '   2.450682000000000E-05,   0.243261000000000E-05\\n'\\n '  -7.081032000000000E-05,   5.535036000000000E-05\\n'\\n '   1.422763000000000E-04,  -1.927912000000000E-04\\n'\\n '   0.004694000000000E-04,   1.728013000000000E-04\\n'\\n '  -5.936623000000000E-05,  -1.944602000000000E-06\\n'\\n '  -9.353459000000000E-05,  -4.430115000000000E-05\\n'\\n '  -4.380941000000000E-05,   1.953095000000000E-04\\n'\\n '   1.113266000000000E-04,  -6.356835000000000E-05\\n'\\n '  -2.202392000000000E-05,   2.415776000000000E-04\\n'\\n '  -1.062974000000000E-04,  -1.376793000000000E-04\\n'\\n '   2.230406000000000E-04,   2.384037000000000E-04\\n'\\n '  -3.124326000000000E-04,  -6.209314000000000E-05\\n'\\n '   2.211779000000000E-04,  -2.634525000000000E-05\\n'\\n '  -2.330691000000000E-04,   0.061840000000000E-04\\n'\\n '   2.272725000000000E-04,  -4.693866000000000E-06\\n'\\n '  -2.279431000000000E-04,   3.080964000000000E-04\\n'\\n '  -1.148582000000000E-04,  -3.071576000000000E-04\\n'\\n '   1.111180000000000E-04,   2.746284000000000E-04\\n'\\n '  -2.772063000000000E-04,  -2.230704000000000E-05\\n'\\n '   2.386123000000000E-04,   1.592487000000000E-04\\n'\\n '  -1.597777000000000E-04,  -5.194545000000000E-05\\n'\\n '   1.451820000000000E-04,   1.038462000000000E-04\\n'\\n '  -2.104342000000000E-04,  -1.181364000000000E-04\\n'\\n '   2.439171000000000E-04,  -1.024306000000000E-04\\n'\\n '  -3.638864000000000E-04,   1.701266000000000E-04\\n'\\n '   4.095137000000000E-04,  -2.522767000000000E-04\\n'\\n '  -2.202392000000000E-04,   5.129874000000000E-04\\n'\\n '  -3.874302000000000E-06,  -7.552207000000000E-04\\n'\\n '   3.696680000000000E-04,   4.738867000000000E-04\\n'\\n '  -5.128384000000000E-04,  -4.203320000000000E-04\\n'\\n '   7.295310000000000E-04,   0.978410000000000E-04\\n'\\n '  -6.171465000000000E-04,   3.022552000000000E-04\\n'\\n '   2.183020000000000E-04,  -4.063249000000000E-04\\n'\\n '  -1.936108000000000E-04,   3.089458000000000E-04\\n'\\n '   3.198087000000000E-04,  -5.807579000000000E-04\\n'\\n '   0.987649000000000E-04,   7.005036000000000E-04\\n'\\n '  -5.176663000000000E-04,  -6.582141000000000E-04\\n'\\n '   6.321073000000000E-04,   0.408590000000000E-04\\n'\\n '  -5.118549000000000E-04,  -2.002716000000000E-05\\n'\\n '   3.831834000000000E-04,  -7.076561000000000E-05\\n'\\n '  -2.758056000000000E-04,   1.806468000000000E-04\\n'\\n '   3.504902000000000E-04,  -1.732260000000000E-04\\n'\\n '  -2.594441000000000E-04,   3.827512000000000E-04\\n'\\n '  -3.859401000000000E-05,  -4.336238000000000E-04\\n'\\n '   2.471507000000000E-04,   3.667623000000000E-04\\n'\\n '  -1.123473000000000E-04,  -1.107231000000000E-04\\n'\\n '  -2.123266000000000E-04,  -8.223951000000000E-05\\n'\\n '   3.057122000000000E-04,  -4.716814000000000E-04\\n'\\n '  -3.963709000000000E-06,   7.322729000000000E-04\\n'\\n '  -5.365014000000000E-04,  -4.179180000000000E-04\\n'\\n '   5.740523000000000E-04,   4.983246000000000E-04\\n'\\n '  -8.829832000000000E-04,  -4.288554000000000E-04\\n'\\n '   1.431167000000000E-03,   1.092553000000000E-04\\n'\\n '  -1.904249000000000E-03,   1.149416000000000E-03\\n'\\n '   0.352383000000000E-03,  -2.550721000000000E-03\\n'\\n '   0.547886000000000E-03,   2.419710000000000E-03\\n'\\n '  -2.321362000000000E-03,  -1.577258000000000E-03\\n'\\n '   2.583504000000000E-03,   0.468731000000000E-03\\n'\\n '  -1.762509000000000E-03,   1.208067000000000E-03\\n'\\n '   1.957178000000000E-03,  -1.478195000000000E-03\\n'\\n '  -1.239777000000000E-05,   3.380775000000000E-03\\n'\\n '  -1.735091000000000E-03,  -2.442837000000000E-03\\n'\\n '   2.757430000000000E-03,   0.993371000000000E-03\\n'\\n '  -1.764297000000000E-03,   7.572174000000000E-04\\n'\\n '   8.796453000000000E-04,  -1.176417000000000E-03\\n'\\n '  -4.315376000000000E-05,   1.293659000000000E-03\\n'\\n '  -7.778704000000000E-04,  -5.790293000000000E-04\\n'\\n '   6.145835000000000E-04,   0.115037000000000E-04\\n'\\n '  -1.956075000000000E-04,   1.580864000000000E-04\\n'\\n '   2.832385000000000E-06,  -1.904438000000000E-06\\n'\\n '  -6.312132000000000E-05,   2.537295000000000E-05\\n'\\n '   5.431101000000000E-05,  -4.405901000000000E-05\\n'\\n '   3.544241000000000E-05,  -3.265217000000000E-05\\n'\\n '  -2.077781000000000E-05,  -4.390441000000000E-05\\n'\\n '  -7.233769000000000E-05,  -1.079291000000000E-04\\n'\\n '   0.195391000000000E-05,  -3.406778000000000E-05\\n'\\n '   5.749241000000000E-05,   3.601983000000000E-05\\n'\\n '   9.416789000000000E-05,  -7.806346000000000E-05\\n'\\n '  -9.875745000000000E-06,   5.623698000000000E-05\\n'\\n '   4.617311000000000E-05,  -6.156043000000000E-06\\n'\\n '  -4.307553000000000E-05,  -7.074699000000000E-05\\n'\\n '  -6.578863000000000E-05,  -4.663318000000000E-05\\n'\\n '   3.216416000000000E-05,   5.152076000000000E-05\\n'\\n '   1.143524000000000E-05,  -7.841270000000000E-06\\n'\\n '  -1.200661000000000E-04,   4.828721000000000E-05\\n'\\n '  -2.051890000000000E-05,  -1.200140000000000E-04\\n'\\n '   3.638119000000000E-05,   6.699190000000000E-05\\n'\\n '  -1.438856000000000E-04,  -6.506592000000000E-05\\n'\\n '   9.574741000000000E-05,  -6.951392000000000E-06\\n'\\n '  -3.693998000000000E-05,   1.177788000000000E-04\\n'\\n '   1.457334000000000E-05,  -2.673455000000000E-05\\n'\\n '   0.919327000000000E-04,  -1.489595000000000E-04\\n'\\n '  -1.423433000000000E-04,  -3.421307000000000E-05\\n'\\n '   4.230812000000000E-05,   1.264736000000000E-05\\n')\\n\""
      ]
     },
     "execution_count": 58,
     "metadata": {},
     "output_type": "execute_result"
    }
   ],
   "source": [
    "test = out \n",
    "'''\n",
    "('  -1.701340000000000E-05,   7.307529000000000E-05\\n'\n",
    " '   0.173375000000000E-04,  -1.228377000000000E-04\\n'\n",
    " '   1.586322000000000E-05,  -1.254864000000000E-05\\n'\n",
    " '  -1.112372000000000E-05,  -5.210564000000000E-05\\n'\n",
    " '   7.737428000000000E-06,   1.520850000000000E-05\\n'\n",
    " '   0.258535000000000E-05,   9.219348000000000E-05\\n'\n",
    " '  -3.298186000000000E-05,  -2.422743000000000E-05\\n'\n",
    " '  -7.267296000000000E-05,   0.438839000000000E-05\\n'\n",
    " '   1.955032000000000E-05,   8.310751000000000E-05\\n'\n",
    " '  -5.480275000000000E-05,   2.966449000000000E-05\\n'\n",
    " '   2.342835000000000E-05,  -4.411116000000000E-05\\n'\n",
    " '  -1.923963000000000E-04,  -1.020432000000000E-04\\n'\n",
    " '  -7.152557000000000E-07,   1.226366000000000E-04\\n'\n",
    " '  -3.158488000000000E-05,  -4.542246000000000E-05\\n'\n",
    " '   7.785112000000000E-05,  -1.180992000000000E-04\\n'\n",
    " '   2.440996000000000E-06,   4.601898000000000E-06\\n'\n",
    " '   1.246110000000000E-05,   6.675348000000000E-05\\n'\n",
    " '   6.614625000000000E-05,   3.999472000000000E-05\\n'\n",
    " '   0.667572000000000E-05,  -1.033247000000000E-04\\n'\n",
    " '   0.727177000000000E-05,   4.243851000000000E-05\\n'\n",
    " '  -3.699213000000000E-05,   1.023561000000000E-04\\n'\n",
    " '   8.071959000000000E-05,   1.447648000000000E-05\\n'\n",
    " '  -1.176596000000000E-04,   5.679578000000000E-05\\n'\n",
    " '   0.411570000000000E-04,   1.896396000000000E-04\\n'\n",
    " '  -4.933029000000000E-05,   4.340336000000000E-05\\n'\n",
    " '   7.958710000000000E-05,   4.255027000000000E-05\\n'\n",
    " '   1.623109000000000E-05,  -5.269796000000000E-05\\n'\n",
    " '  -1.062453000000000E-04,  -4.803389000000000E-05\\n'\n",
    " '  -6.930903000000000E-05,  -2.957880000000000E-05\\n'\n",
    " '  -1.037773000000000E-05,  -1.021195000000000E-05\\n'\n",
    " '  -1.150966000000000E-04,  -4.314631000000000E-05\\n'\n",
    " '   8.962303000000000E-05,   4.909933000000000E-05\\n'\n",
    " '   3.455207000000000E-06,   8.965843000000000E-06\\n'\n",
    " '  -5.979836000000000E-05,  -1.608208000000000E-05\\n'\n",
    " '  -9.663403000000000E-05,  -4.962832000000000E-05\\n'\n",
    " '   8.891523000000000E-05,   1.618266000000000E-05\\n'\n",
    " '   1.639128000000000E-05,  -5.351380000000000E-05\\n'\n",
    " '  -5.307422000000000E-05,   3.769621000000000E-05\\n'\n",
    " '   6.477163000000000E-05,   2.032518000000000E-05\\n'\n",
    " '  -1.265481000000000E-05,  -3.738143000000000E-05\\n'\n",
    " '  -3.145077000000000E-05,  -7.005409000000000E-06\\n'\n",
    " '  -3.732741000000000E-05,  -1.069345000000000E-05\\n'\n",
    " '   1.750514000000000E-05,   5.440414000000000E-05\\n'\n",
    " '   4.045665000000000E-05,  -1.102537000000000E-04\\n'\n",
    " '  -5.267560000000000E-06,  -1.085848000000000E-04\\n'\n",
    " '  -1.486465000000000E-04,  -3.709644000000000E-05\\n'\n",
    " '  -4.164689000000000E-05,  -1.959503000000000E-05\\n'\n",
    " '  -5.141646000000000E-05,  -3.128499000000000E-05\\n'\n",
    " '  -4.043058000000000E-05,  -1.909770000000000E-05\\n'\n",
    " '  -1.085252000000000E-04,  -1.247227000000000E-05\\n'\n",
    " '  -1.937151000000000E-06,   1.929849000000000E-04\\n'\n",
    " '   1.446344000000000E-05,  -3.090687000000000E-05\\n'\n",
    " '  -6.107241000000000E-05,   0.881031000000000E-05\\n'\n",
    " '   1.908094000000000E-05,   9.819120000000000E-05\\n'\n",
    " '  -1.242757000000000E-04,   0.163466000000000E-04\\n'\n",
    " '   6.828085000000000E-05,   6.928668000000000E-05\\n'\n",
    " '   4.385784000000000E-05,  -6.166101000000000E-05\\n'\n",
    " '   0.662543000000000E-05,   2.552010000000000E-05\\n'\n",
    " '   6.411225000000000E-05,   1.485273000000000E-05\\n'\n",
    " '   0.307709000000000E-05,  -5.821512000000000E-05\\n'\n",
    " '  -1.163706000000000E-04,  -4.507601000000000E-06\\n'\n",
    " '   4.171394000000000E-05,  -3.027171000000000E-05\\n'\n",
    " '   1.380295000000000E-04,   0.267103000000000E-04\\n'\n",
    " '  -1.220778000000000E-05,   5.109981000000000E-05\\n'\n",
    " '  -1.077876000000000E-04,   2.975017000000000E-05\\n'\n",
    " '   6.961823000000000E-05,   7.616357000000000E-05\\n'\n",
    " '  -1.006275000000000E-04,  -5.582720000000000E-05\\n'\n",
    " '  -8.672476000000000E-05,   2.619624000000000E-05\\n'\n",
    " '   1.876876000000000E-04,   0.474080000000000E-04\\n'\n",
    " '  -1.034886000000000E-04,  -1.032352000000000E-04\\n'\n",
    " '   3.303215000000000E-05,  -2.477318000000000E-07\\n'\n",
    " '  -7.748232000000000E-05,   0.340119000000000E-05\\n'\n",
    " '   2.877042000000000E-05,  -2.737343000000000E-05\\n'\n",
    " '  -3.908947000000000E-05,   9.285287000000000E-05\\n'\n",
    " '  -1.372211000000000E-05,  -3.215485000000000E-05\\n'\n",
    " '   0.450611000000000E-04,  -1.350492000000000E-04\\n'\n",
    " '  -7.292628000000000E-05,   0.100210000000000E-05\\n'\n",
    " '  -3.965572000000000E-05,  -3.992394000000000E-05\\n'\n",
    " '   3.217161000000000E-05,   4.159287000000000E-05\\n'\n",
    " '  -7.957593000000000E-05,  -5.156547000000000E-05\\n'\n",
    " '   1.702271000000000E-05,   3.072619000000000E-05\\n'\n",
    " '  -1.901202000000000E-05,  -2.348796000000000E-05\\n'\n",
    " '  -3.645011000000000E-05,   2.209097000000000E-05\\n'\n",
    " '   4.968792000000000E-05,  -5.969778000000000E-05\\n'\n",
    " '   8.680300000000000E-05,   4.684553000000000E-05\\n'\n",
    " '  -8.097291000000000E-05,   2.294034000000000E-05\\n'\n",
    " '  -6.584078000000000E-05,  -7.116795000000000E-05\\n'\n",
    " '  -9.775162000000000E-06,   1.064241000000000E-04\\n'\n",
    " '   0.154451000000000E-04,  -1.689419000000000E-04\\n'\n",
    " '  -5.368143000000000E-05,   1.498535000000000E-04\\n'\n",
    " '  -1.260415000000000E-04,   0.247359000000000E-04\\n'\n",
    " '   6.653368000000000E-05,  -1.166985000000000E-04\\n'\n",
    " '   8.805096000000000E-05,   8.039550000000000E-05\\n'\n",
    " '   5.000830000000000E-05,   3.892556000000000E-05\\n'\n",
    " '   2.655759000000000E-05,   2.993271000000000E-05\\n'\n",
    " '  -5.264953000000000E-05,  -1.734123000000000E-05\\n'\n",
    " '  -3.964454000000000E-05,   1.126528000000000E-04\\n'\n",
    " '   5.229563000000000E-05,  -4.573166000000000E-05\\n'\n",
    " '   0.351295000000000E-05,   6.152318000000000E-05\\n'\n",
    " '   3.487058000000000E-05,   0.725500000000000E-05\\n'\n",
    " '   7.726625000000000E-05,  -5.716085000000000E-05\\n'\n",
    " '   1.079440000000000E-04,  -3.601611000000000E-05\\n'\n",
    " '  -1.494586000000000E-05,   1.300499000000000E-04\\n'\n",
    " '  -8.986145000000000E-05,  -1.857504000000000E-04\\n'\n",
    " '   1.297668000000000E-04,  -1.022443000000000E-04\\n'\n",
    " '   0.500306000000000E-05,  -3.569573000000000E-05\\n'\n",
    " '   7.942319000000000E-05,   6.188080000000000E-05\\n'\n",
    " '   2.450682000000000E-05,   0.243261000000000E-05\\n'\n",
    " '  -7.081032000000000E-05,   5.535036000000000E-05\\n'\n",
    " '   1.422763000000000E-04,  -1.927912000000000E-04\\n'\n",
    " '   0.004694000000000E-04,   1.728013000000000E-04\\n'\n",
    " '  -5.936623000000000E-05,  -1.944602000000000E-06\\n'\n",
    " '  -9.353459000000000E-05,  -4.430115000000000E-05\\n'\n",
    " '  -4.380941000000000E-05,   1.953095000000000E-04\\n'\n",
    " '   1.113266000000000E-04,  -6.356835000000000E-05\\n'\n",
    " '  -2.202392000000000E-05,   2.415776000000000E-04\\n'\n",
    " '  -1.062974000000000E-04,  -1.376793000000000E-04\\n'\n",
    " '   2.230406000000000E-04,   2.384037000000000E-04\\n'\n",
    " '  -3.124326000000000E-04,  -6.209314000000000E-05\\n'\n",
    " '   2.211779000000000E-04,  -2.634525000000000E-05\\n'\n",
    " '  -2.330691000000000E-04,   0.061840000000000E-04\\n'\n",
    " '   2.272725000000000E-04,  -4.693866000000000E-06\\n'\n",
    " '  -2.279431000000000E-04,   3.080964000000000E-04\\n'\n",
    " '  -1.148582000000000E-04,  -3.071576000000000E-04\\n'\n",
    " '   1.111180000000000E-04,   2.746284000000000E-04\\n'\n",
    " '  -2.772063000000000E-04,  -2.230704000000000E-05\\n'\n",
    " '   2.386123000000000E-04,   1.592487000000000E-04\\n'\n",
    " '  -1.597777000000000E-04,  -5.194545000000000E-05\\n'\n",
    " '   1.451820000000000E-04,   1.038462000000000E-04\\n'\n",
    " '  -2.104342000000000E-04,  -1.181364000000000E-04\\n'\n",
    " '   2.439171000000000E-04,  -1.024306000000000E-04\\n'\n",
    " '  -3.638864000000000E-04,   1.701266000000000E-04\\n'\n",
    " '   4.095137000000000E-04,  -2.522767000000000E-04\\n'\n",
    " '  -2.202392000000000E-04,   5.129874000000000E-04\\n'\n",
    " '  -3.874302000000000E-06,  -7.552207000000000E-04\\n'\n",
    " '   3.696680000000000E-04,   4.738867000000000E-04\\n'\n",
    " '  -5.128384000000000E-04,  -4.203320000000000E-04\\n'\n",
    " '   7.295310000000000E-04,   0.978410000000000E-04\\n'\n",
    " '  -6.171465000000000E-04,   3.022552000000000E-04\\n'\n",
    " '   2.183020000000000E-04,  -4.063249000000000E-04\\n'\n",
    " '  -1.936108000000000E-04,   3.089458000000000E-04\\n'\n",
    " '   3.198087000000000E-04,  -5.807579000000000E-04\\n'\n",
    " '   0.987649000000000E-04,   7.005036000000000E-04\\n'\n",
    " '  -5.176663000000000E-04,  -6.582141000000000E-04\\n'\n",
    " '   6.321073000000000E-04,   0.408590000000000E-04\\n'\n",
    " '  -5.118549000000000E-04,  -2.002716000000000E-05\\n'\n",
    " '   3.831834000000000E-04,  -7.076561000000000E-05\\n'\n",
    " '  -2.758056000000000E-04,   1.806468000000000E-04\\n'\n",
    " '   3.504902000000000E-04,  -1.732260000000000E-04\\n'\n",
    " '  -2.594441000000000E-04,   3.827512000000000E-04\\n'\n",
    " '  -3.859401000000000E-05,  -4.336238000000000E-04\\n'\n",
    " '   2.471507000000000E-04,   3.667623000000000E-04\\n'\n",
    " '  -1.123473000000000E-04,  -1.107231000000000E-04\\n'\n",
    " '  -2.123266000000000E-04,  -8.223951000000000E-05\\n'\n",
    " '   3.057122000000000E-04,  -4.716814000000000E-04\\n'\n",
    " '  -3.963709000000000E-06,   7.322729000000000E-04\\n'\n",
    " '  -5.365014000000000E-04,  -4.179180000000000E-04\\n'\n",
    " '   5.740523000000000E-04,   4.983246000000000E-04\\n'\n",
    " '  -8.829832000000000E-04,  -4.288554000000000E-04\\n'\n",
    " '   1.431167000000000E-03,   1.092553000000000E-04\\n'\n",
    " '  -1.904249000000000E-03,   1.149416000000000E-03\\n'\n",
    " '   0.352383000000000E-03,  -2.550721000000000E-03\\n'\n",
    " '   0.547886000000000E-03,   2.419710000000000E-03\\n'\n",
    " '  -2.321362000000000E-03,  -1.577258000000000E-03\\n'\n",
    " '   2.583504000000000E-03,   0.468731000000000E-03\\n'\n",
    " '  -1.762509000000000E-03,   1.208067000000000E-03\\n'\n",
    " '   1.957178000000000E-03,  -1.478195000000000E-03\\n'\n",
    " '  -1.239777000000000E-05,   3.380775000000000E-03\\n'\n",
    " '  -1.735091000000000E-03,  -2.442837000000000E-03\\n'\n",
    " '   2.757430000000000E-03,   0.993371000000000E-03\\n'\n",
    " '  -1.764297000000000E-03,   7.572174000000000E-04\\n'\n",
    " '   8.796453000000000E-04,  -1.176417000000000E-03\\n'\n",
    " '  -4.315376000000000E-05,   1.293659000000000E-03\\n'\n",
    " '  -7.778704000000000E-04,  -5.790293000000000E-04\\n'\n",
    " '   6.145835000000000E-04,   0.115037000000000E-04\\n'\n",
    " '  -1.956075000000000E-04,   1.580864000000000E-04\\n'\n",
    " '   2.832385000000000E-06,  -1.904438000000000E-06\\n'\n",
    " '  -6.312132000000000E-05,   2.537295000000000E-05\\n'\n",
    " '   5.431101000000000E-05,  -4.405901000000000E-05\\n'\n",
    " '   3.544241000000000E-05,  -3.265217000000000E-05\\n'\n",
    " '  -2.077781000000000E-05,  -4.390441000000000E-05\\n'\n",
    " '  -7.233769000000000E-05,  -1.079291000000000E-04\\n'\n",
    " '   0.195391000000000E-05,  -3.406778000000000E-05\\n'\n",
    " '   5.749241000000000E-05,   3.601983000000000E-05\\n'\n",
    " '   9.416789000000000E-05,  -7.806346000000000E-05\\n'\n",
    " '  -9.875745000000000E-06,   5.623698000000000E-05\\n'\n",
    " '   4.617311000000000E-05,  -6.156043000000000E-06\\n'\n",
    " '  -4.307553000000000E-05,  -7.074699000000000E-05\\n'\n",
    " '  -6.578863000000000E-05,  -4.663318000000000E-05\\n'\n",
    " '   3.216416000000000E-05,   5.152076000000000E-05\\n'\n",
    " '   1.143524000000000E-05,  -7.841270000000000E-06\\n'\n",
    " '  -1.200661000000000E-04,   4.828721000000000E-05\\n'\n",
    " '  -2.051890000000000E-05,  -1.200140000000000E-04\\n'\n",
    " '   3.638119000000000E-05,   6.699190000000000E-05\\n'\n",
    " '  -1.438856000000000E-04,  -6.506592000000000E-05\\n'\n",
    " '   9.574741000000000E-05,  -6.951392000000000E-06\\n'\n",
    " '  -3.693998000000000E-05,   1.177788000000000E-04\\n'\n",
    " '   1.457334000000000E-05,  -2.673455000000000E-05\\n'\n",
    " '   0.919327000000000E-04,  -1.489595000000000E-04\\n'\n",
    " '  -1.423433000000000E-04,  -3.421307000000000E-05\\n'\n",
    " '   4.230812000000000E-05,   1.264736000000000E-05\\n')\n",
    "'''"
   ]
  },
  {
   "cell_type": "code",
   "execution_count": 59,
   "metadata": {},
   "outputs": [
    {
     "data": {
      "text/plain": [
       "str"
      ]
     },
     "execution_count": 59,
     "metadata": {},
     "output_type": "execute_result"
    }
   ],
   "source": [
    "type(test)"
   ]
  },
  {
   "cell_type": "code",
   "execution_count": 60,
   "metadata": {},
   "outputs": [
    {
     "data": {
      "text/plain": [
       "['   1.871643000000000E-01,   0.141678000000000E-01',\n",
       " '   1.405029000000000E+00,   7.104492000000000E-01',\n",
       " '   3.730713000000000E+00,   1.940186000000000E+00',\n",
       " '   0.811768000000000E-01,   8.986816000000000E-01',\n",
       " '   1.273499000000000E-01,   9.390869000000000E-01',\n",
       " '   3.052216000000000E-01,  -1.348419000000000E-01',\n",
       " '  -1.318359000000000E-01,  -4.366455000000000E-01',\n",
       " '   1.590332000000000E+00,   2.125732000000000E+00',\n",
       " '  -4.681396000000000E-02,   7.942505000000000E-01',\n",
       " '  -6.855774000000000E-02,   3.073273000000000E-01',\n",
       " '   3.100281000000000E-01,  -9.081421000000000E-01',\n",
       " '  -5.895386000000000E-01,   1.318665000000000E-01',\n",
       " '   1.220856000000000E-01,  -2.971039000000000E-01',\n",
       " '   1.120911000000000E+00,  -2.750244000000000E-01',\n",
       " '   0.248413000000000E-01,  -2.898560000000000E-01',\n",
       " '   0.115967000000000E-01,  -6.248779000000000E-01',\n",
       " '  -1.529114000000000E+00,   1.020569000000000E+00',\n",
       " '  -7.214966000000000E-01,   0.086060000000000E-01',\n",
       " '   1.650391000000000E-01,   6.793213000000000E-01',\n",
       " '   3.847656000000000E-01,  -4.504395000000000E-02',\n",
       " '   1.325531000000000E-01,  -1.098785000000000E-01',\n",
       " '  -4.871826000000000E-01,   2.088623000000000E-01',\n",
       " '   2.918701000000000E-01,   9.027710000000000E-01',\n",
       " '   2.277344000000000E+00,  -4.493408000000000E-01',\n",
       " '  -3.134155000000000E-01,  -3.954468000000000E-01',\n",
       " '   1.166000000000000E-01,  -1.348114000000000E-01',\n",
       " '   9.712830000000000E-01,   3.646545000000000E-01',\n",
       " '  -7.268677000000000E-01,  -6.208191000000000E-01',\n",
       " '  -1.017761000000000E-02,   3.487701000000000E-01',\n",
       " '   4.302368000000000E-01,  -2.539215000000000E-01',\n",
       " '   2.386627000000000E-01,   3.645935000000000E-01',\n",
       " '  -1.816711000000000E-01,  -2.201233000000000E-01',\n",
       " '   0.334625000000000E-01,  -2.821198000000000E-01',\n",
       " '  -5.621033000000000E-01,  -3.582764000000000E-02',\n",
       " '   0.715942000000000E-01,   9.220276000000000E-01',\n",
       " '  -2.956543000000000E-01,   5.240479000000000E-01',\n",
       " '   4.822388000000000E-01,  -2.258301000000000E-01',\n",
       " '  -1.167755000000000E-01,   1.649933000000000E-01',\n",
       " '  -3.503418000000000E-02,  -8.046265000000000E-01',\n",
       " '   7.292480000000000E-01,   2.037964000000000E-01',\n",
       " '  -1.695862000000000E-01,   6.701965000000000E-01',\n",
       " '   5.922241000000000E-01,  -1.186218000000000E-01',\n",
       " '   3.716125000000000E-01,  -3.672485000000000E-01',\n",
       " '  -9.309082000000000E-01,   8.426514000000000E-01',\n",
       " '  -1.864014000000000E-01,  -1.003906000000000E+00',\n",
       " '  -3.601074000000000E-01,   1.329041000000000E+00',\n",
       " '  -8.751831000000000E-01,   2.899170000000000E-01',\n",
       " '   2.381226000000000E+00,  -9.820557000000000E-01',\n",
       " '  -9.436035000000000E-02,   2.360458000000000E-01',\n",
       " '  -2.656250000000000E-01,   2.867188000000000E+00',\n",
       " '  -5.539703000000000E-02,   2.264481000000000E-01',\n",
       " '   3.672485000000000E-01,  -5.377197000000000E-02',\n",
       " '   4.728088000000000E-01,  -7.269287000000000E-02',\n",
       " '  -8.959961000000000E-02,  -6.490479000000000E-01',\n",
       " '   4.953003000000000E-01,   9.307556000000000E-01',\n",
       " '   8.712158000000000E-01,   4.737244000000000E-01',\n",
       " '  -4.040527000000000E-01,   2.925415000000000E-01',\n",
       " '  -1.039795000000000E+00,   1.028015000000000E+00',\n",
       " '  -2.563477000000000E-01,   2.141571000000000E-01',\n",
       " '  -1.193390000000000E-01,  -2.994232000000000E-01',\n",
       " '   9.914551000000000E-01,   1.298828000000000E+00',\n",
       " '   0.511475000000000E-01,  -1.083618000000000E+00',\n",
       " '  -4.533081000000000E-01,  -1.738892000000000E-01',\n",
       " '   1.175659000000000E+00,   4.832153000000000E-01',\n",
       " '   8.434448000000000E-01,   2.137451000000000E-01',\n",
       " '  -1.303864000000000E-01,   3.388214000000000E-01',\n",
       " '  -1.884277000000000E+00,  -2.763550000000000E+00',\n",
       " '  -6.108398000000000E-01,  -1.021729000000000E+00',\n",
       " '  -3.729248000000000E-02,  -5.229797000000000E-01',\n",
       " '  -1.069641000000000E+00,  -3.884888000000000E-01',\n",
       " '  -3.250122000000000E-02,  -8.772278000000000E-01',\n",
       " '  -1.264496000000000E-01,  -1.255188000000000E-01',\n",
       " '  -5.274658000000000E-01,  -6.629028000000000E-01',\n",
       " '   2.106934000000000E-01,  -8.695374000000000E-01',\n",
       " '  -9.509277000000000E-02,   9.478760000000000E-01',\n",
       " '  -3.935547000000000E-01,   5.867920000000000E-01',\n",
       " '  -1.129028000000000E+00,  -1.918945000000000E-01',\n",
       " '  -8.762817000000000E-01,  -1.127625000000000E+00',\n",
       " '  -1.571808000000000E-01,   3.135986000000000E-01',\n",
       " '   3.746338000000000E-01,   2.383728000000000E-01',\n",
       " '   0.928040000000000E-01,   3.835297000000000E-01',\n",
       " '  -1.030579000000000E-01,   3.106995000000000E-01',\n",
       " '   3.819275000000000E-02,   3.952789000000000E-02',\n",
       " '   7.697449000000000E-01,   0.821228000000000E-01',\n",
       " '  -3.820496000000000E-01,   3.124084000000000E-01',\n",
       " '   6.344604000000000E-01,  -4.611206000000000E-01',\n",
       " '   5.477905000000000E-01,   1.107727000000000E+00',\n",
       " '   2.245331000000000E-01,  -7.560730000000000E-02',\n",
       " '   8.263550000000000E-01,  -4.432983000000000E-01',\n",
       " '   5.411072000000000E-01,   3.626709000000000E-01',\n",
       " '   1.148071000000000E+00,  -6.452637000000000E-01',\n",
       " '  -4.938965000000000E-01,   3.439941000000000E-01',\n",
       " '   2.919312000000000E-01,   2.700806000000000E-01',\n",
       " '   1.059570000000000E+01,   2.367188000000000E+01',\n",
       " '   4.160645000000000E+00,  -2.424316000000000E-01',\n",
       " '  -1.070557000000000E+00,  -9.368896000000000E-02',\n",
       " '  -4.561157000000000E-01,   8.020630000000000E-01',\n",
       " '   1.413330000000000E+00,  -1.787537000000000E+00',\n",
       " '   7.261353000000000E-01,  -1.575012000000000E-01',\n",
       " '   3.636475000000000E-01,   5.070801000000000E-01',\n",
       " '  -4.125977000000000E-02,   9.458618000000000E-01',\n",
       " '']"
      ]
     },
     "execution_count": 60,
     "metadata": {},
     "output_type": "execute_result"
    }
   ],
   "source": [
    "test = test.split(\"\\n\")\n",
    "test"
   ]
  },
  {
   "cell_type": "code",
   "execution_count": 61,
   "metadata": {},
   "outputs": [],
   "source": [
    "arr_0 = []\n",
    "arr_1 = []\n",
    "\n",
    "for i, pair in enumerate(test):\n",
    "    if pair == '':\n",
    "        continue\n",
    "    try:\n",
    "        arr_0.append(pair.split(\",\")[0])\n",
    "        arr_1.append(pair.split(\",\")[1])\n",
    "    except:\n",
    "        print(i)"
   ]
  },
  {
   "cell_type": "code",
   "execution_count": 62,
   "metadata": {},
   "outputs": [
    {
     "data": {
      "text/plain": [
       "['   1.871643000000000E-01',\n",
       " '   1.405029000000000E+00',\n",
       " '   3.730713000000000E+00',\n",
       " '   0.811768000000000E-01',\n",
       " '   1.273499000000000E-01',\n",
       " '   3.052216000000000E-01',\n",
       " '  -1.318359000000000E-01',\n",
       " '   1.590332000000000E+00',\n",
       " '  -4.681396000000000E-02',\n",
       " '  -6.855774000000000E-02',\n",
       " '   3.100281000000000E-01',\n",
       " '  -5.895386000000000E-01',\n",
       " '   1.220856000000000E-01',\n",
       " '   1.120911000000000E+00',\n",
       " '   0.248413000000000E-01',\n",
       " '   0.115967000000000E-01',\n",
       " '  -1.529114000000000E+00',\n",
       " '  -7.214966000000000E-01',\n",
       " '   1.650391000000000E-01',\n",
       " '   3.847656000000000E-01',\n",
       " '   1.325531000000000E-01',\n",
       " '  -4.871826000000000E-01',\n",
       " '   2.918701000000000E-01',\n",
       " '   2.277344000000000E+00',\n",
       " '  -3.134155000000000E-01',\n",
       " '   1.166000000000000E-01',\n",
       " '   9.712830000000000E-01',\n",
       " '  -7.268677000000000E-01',\n",
       " '  -1.017761000000000E-02',\n",
       " '   4.302368000000000E-01',\n",
       " '   2.386627000000000E-01',\n",
       " '  -1.816711000000000E-01',\n",
       " '   0.334625000000000E-01',\n",
       " '  -5.621033000000000E-01',\n",
       " '   0.715942000000000E-01',\n",
       " '  -2.956543000000000E-01',\n",
       " '   4.822388000000000E-01',\n",
       " '  -1.167755000000000E-01',\n",
       " '  -3.503418000000000E-02',\n",
       " '   7.292480000000000E-01',\n",
       " '  -1.695862000000000E-01',\n",
       " '   5.922241000000000E-01',\n",
       " '   3.716125000000000E-01',\n",
       " '  -9.309082000000000E-01',\n",
       " '  -1.864014000000000E-01',\n",
       " '  -3.601074000000000E-01',\n",
       " '  -8.751831000000000E-01',\n",
       " '   2.381226000000000E+00',\n",
       " '  -9.436035000000000E-02',\n",
       " '  -2.656250000000000E-01',\n",
       " '  -5.539703000000000E-02',\n",
       " '   3.672485000000000E-01',\n",
       " '   4.728088000000000E-01',\n",
       " '  -8.959961000000000E-02',\n",
       " '   4.953003000000000E-01',\n",
       " '   8.712158000000000E-01',\n",
       " '  -4.040527000000000E-01',\n",
       " '  -1.039795000000000E+00',\n",
       " '  -2.563477000000000E-01',\n",
       " '  -1.193390000000000E-01',\n",
       " '   9.914551000000000E-01',\n",
       " '   0.511475000000000E-01',\n",
       " '  -4.533081000000000E-01',\n",
       " '   1.175659000000000E+00',\n",
       " '   8.434448000000000E-01',\n",
       " '  -1.303864000000000E-01',\n",
       " '  -1.884277000000000E+00',\n",
       " '  -6.108398000000000E-01',\n",
       " '  -3.729248000000000E-02',\n",
       " '  -1.069641000000000E+00',\n",
       " '  -3.250122000000000E-02',\n",
       " '  -1.264496000000000E-01',\n",
       " '  -5.274658000000000E-01',\n",
       " '   2.106934000000000E-01',\n",
       " '  -9.509277000000000E-02',\n",
       " '  -3.935547000000000E-01',\n",
       " '  -1.129028000000000E+00',\n",
       " '  -8.762817000000000E-01',\n",
       " '  -1.571808000000000E-01',\n",
       " '   3.746338000000000E-01',\n",
       " '   0.928040000000000E-01',\n",
       " '  -1.030579000000000E-01',\n",
       " '   3.819275000000000E-02',\n",
       " '   7.697449000000000E-01',\n",
       " '  -3.820496000000000E-01',\n",
       " '   6.344604000000000E-01',\n",
       " '   5.477905000000000E-01',\n",
       " '   2.245331000000000E-01',\n",
       " '   8.263550000000000E-01',\n",
       " '   5.411072000000000E-01',\n",
       " '   1.148071000000000E+00',\n",
       " '  -4.938965000000000E-01',\n",
       " '   2.919312000000000E-01',\n",
       " '   1.059570000000000E+01',\n",
       " '   4.160645000000000E+00',\n",
       " '  -1.070557000000000E+00',\n",
       " '  -4.561157000000000E-01',\n",
       " '   1.413330000000000E+00',\n",
       " '   7.261353000000000E-01',\n",
       " '   3.636475000000000E-01',\n",
       " '  -4.125977000000000E-02']"
      ]
     },
     "execution_count": 62,
     "metadata": {},
     "output_type": "execute_result"
    }
   ],
   "source": [
    "arr_0"
   ]
  },
  {
   "cell_type": "code",
   "execution_count": 63,
   "metadata": {},
   "outputs": [],
   "source": [
    "arr_0 = [float(i) for i in arr_0]\n",
    "arr_1 = [float(i) for i in arr_1]"
   ]
  },
  {
   "cell_type": "code",
   "execution_count": 64,
   "metadata": {},
   "outputs": [
    {
     "data": {
      "text/plain": [
       "[<matplotlib.lines.Line2D at 0x253999f8438>]"
      ]
     },
     "execution_count": 64,
     "metadata": {},
     "output_type": "execute_result"
    },
    {
     "data": {
      "image/png": "[encoded data removed]",
      "text/plain": [
       "<Figure size 432x288 with 1 Axes>"
      ]
     },
     "metadata": {
      "needs_background": "light"
     },
     "output_type": "display_data"
    }
   ],
   "source": [
    "logmag = np.log10(np.sqrt(np.add(np.power(arr_0, 2), np.power(arr_1 ,2))))\n",
    "plt.plot(logmag)"
   ]
  },
  {
   "cell_type": "code",
   "execution_count": null,
   "metadata": {},
   "outputs": [],
   "source": []
  }
 ],
 "metadata": {
  "kernelspec": {
   "display_name": "Python 3",
   "language": "python",
   "name": "python3"
  },
  "language_info": {
   "codemirror_mode": {
    "name": "ipython",
    "version": 3
   },
   "file_extension": ".py",
   "mimetype": "text/x-python",
   "name": "python",
   "nbconvert_exporter": "python",
   "pygments_lexer": "ipython3",
   "version": "3.7.3"
  }
 },
 "nbformat": 4,
 "nbformat_minor": 2
}
